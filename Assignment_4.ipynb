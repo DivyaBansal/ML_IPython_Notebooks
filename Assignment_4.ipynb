{
 "cells": [
  {
   "cell_type": "markdown",
   "metadata": {},
   "source": [
    "Q1.\n",
    "    a. Please download the data from \"http://archive.ics.uci.edu/ml/datasets/Liver+Disorders\"\n",
    "    b. Get to know about the features\n",
    "        i. given data set has 6 attributes and 1 output varaible\n",
    "    c. Find me the two most corelated feature out of 6 attributes with the output varaible\n",
    "    d. Prove that the features are correlated with output varaible using null hypothsis test\n",
    "        i.hint: consider 100 random samples from the data set and find out the correlation, repeat it for 50 times"
   ]
  },
  {
   "cell_type": "raw",
   "metadata": {},
   "source": [
    "1. Title: BUPA liver disorders\n",
    "\n",
    "2. Source information:\n",
    "   -- http://archive.ics.uci.edu/ml/datasets/Liver+Disorders\n",
    "   -- Creators: BUPA Medical Research Ltd.\n",
    "   -- Donor: Richard S. Forsyth\n",
    "   -- Date: 5/15/1990\n",
    "\n",
    "3. Past usage: \n",
    "   -- None known other than what is shown in the PC/BEAGLE User's Guide\n",
    "      (written by Richard S. Forsyth).\n",
    "\n",
    "4. Number of instances: 345\n",
    "\n",
    "5. Number of attributes: 7 overall\n",
    "\n",
    "6. Attribute information:\n",
    "   1. mcv\tmean corpuscular volume\n",
    "   2. alkphos\talkaline phosphotase\n",
    "   3. sgpt\talamine aminotransferase\n",
    "   4. sgot \taspartate aminotransferase\n",
    "   5. gammagt\tgamma-glutamyl transpeptidase\n",
    "   6. drinks\tnumber of half-pint equivalents of alcoholic beverages drunk per day\n",
    "   7. selector  field used to split data into two sets\n",
    "\n",
    "7. Relevent Information\n",
    "The first 5 variables are all blood tests which are thought to be sensitive to liver disorders that might arise from excessive alcohol consumption. Each line in the data file constitutes the record of a single male individual.\n",
    "\n",
    "8. Missing values: none"
   ]
  },
  {
   "cell_type": "code",
   "execution_count": 4,
   "metadata": {},
   "outputs": [
    {
     "name": "stdout",
     "output_type": "stream",
     "text": [
      "   mcv  alhphos  sgpt  sgot  gammagt  drinks  selector\n",
      "0   85       92    45    27       31     0.0         1\n",
      "1   85       64    59    32       23     0.0         2\n",
      "2   86       54    33    16       54     0.0         2\n",
      "3   91       78    34    24       36     0.0         2\n",
      "4   87       70    12    28       10     0.0         2\n"
     ]
    }
   ],
   "source": [
    "import pandas as pd\n",
    "import seaborn as sns\n",
    "import matplotlib.pyplot as plt\n",
    "import scipy.stats as sp\n",
    "from random import * \n",
    "from __future__ import division\n",
    "\n",
    "h=['mcv','alhphos','sgpt','sgot','gammagt','drinks','selector']\n",
    "data= pd.read_csv(\"dataLiver.csv\",names=h)\n",
    "\n",
    "print data.head() "
   ]
  },
  {
   "cell_type": "code",
   "execution_count": 5,
   "metadata": {},
   "outputs": [
    {
     "data": {
      "text/html": [
       "<div>\n",
       "<style>\n",
       "    .dataframe thead tr:only-child th {\n",
       "        text-align: right;\n",
       "    }\n",
       "\n",
       "    .dataframe thead th {\n",
       "        text-align: left;\n",
       "    }\n",
       "\n",
       "    .dataframe tbody tr th {\n",
       "        vertical-align: top;\n",
       "    }\n",
       "</style>\n",
       "<table border=\"1\" class=\"dataframe\">\n",
       "  <thead>\n",
       "    <tr style=\"text-align: right;\">\n",
       "      <th></th>\n",
       "      <th>mcv</th>\n",
       "      <th>alhphos</th>\n",
       "      <th>sgpt</th>\n",
       "      <th>sgot</th>\n",
       "      <th>gammagt</th>\n",
       "      <th>drinks</th>\n",
       "      <th>selector</th>\n",
       "    </tr>\n",
       "  </thead>\n",
       "  <tbody>\n",
       "    <tr>\n",
       "      <th>count</th>\n",
       "      <td>345.000000</td>\n",
       "      <td>345.000000</td>\n",
       "      <td>345.000000</td>\n",
       "      <td>345.000000</td>\n",
       "      <td>345.000000</td>\n",
       "      <td>345.000000</td>\n",
       "      <td>345.000000</td>\n",
       "    </tr>\n",
       "    <tr>\n",
       "      <th>mean</th>\n",
       "      <td>90.159420</td>\n",
       "      <td>69.869565</td>\n",
       "      <td>30.405797</td>\n",
       "      <td>24.643478</td>\n",
       "      <td>38.284058</td>\n",
       "      <td>3.455072</td>\n",
       "      <td>1.579710</td>\n",
       "    </tr>\n",
       "    <tr>\n",
       "      <th>std</th>\n",
       "      <td>4.448096</td>\n",
       "      <td>18.347670</td>\n",
       "      <td>19.512309</td>\n",
       "      <td>10.064494</td>\n",
       "      <td>39.254616</td>\n",
       "      <td>3.337835</td>\n",
       "      <td>0.494322</td>\n",
       "    </tr>\n",
       "    <tr>\n",
       "      <th>min</th>\n",
       "      <td>65.000000</td>\n",
       "      <td>23.000000</td>\n",
       "      <td>4.000000</td>\n",
       "      <td>5.000000</td>\n",
       "      <td>5.000000</td>\n",
       "      <td>0.000000</td>\n",
       "      <td>1.000000</td>\n",
       "    </tr>\n",
       "    <tr>\n",
       "      <th>25%</th>\n",
       "      <td>87.000000</td>\n",
       "      <td>57.000000</td>\n",
       "      <td>19.000000</td>\n",
       "      <td>19.000000</td>\n",
       "      <td>15.000000</td>\n",
       "      <td>0.500000</td>\n",
       "      <td>1.000000</td>\n",
       "    </tr>\n",
       "    <tr>\n",
       "      <th>50%</th>\n",
       "      <td>90.000000</td>\n",
       "      <td>67.000000</td>\n",
       "      <td>26.000000</td>\n",
       "      <td>23.000000</td>\n",
       "      <td>25.000000</td>\n",
       "      <td>3.000000</td>\n",
       "      <td>2.000000</td>\n",
       "    </tr>\n",
       "    <tr>\n",
       "      <th>75%</th>\n",
       "      <td>93.000000</td>\n",
       "      <td>80.000000</td>\n",
       "      <td>34.000000</td>\n",
       "      <td>27.000000</td>\n",
       "      <td>46.000000</td>\n",
       "      <td>6.000000</td>\n",
       "      <td>2.000000</td>\n",
       "    </tr>\n",
       "    <tr>\n",
       "      <th>max</th>\n",
       "      <td>103.000000</td>\n",
       "      <td>138.000000</td>\n",
       "      <td>155.000000</td>\n",
       "      <td>82.000000</td>\n",
       "      <td>297.000000</td>\n",
       "      <td>20.000000</td>\n",
       "      <td>2.000000</td>\n",
       "    </tr>\n",
       "  </tbody>\n",
       "</table>\n",
       "</div>"
      ],
      "text/plain": [
       "              mcv     alhphos        sgpt        sgot     gammagt      drinks  \\\n",
       "count  345.000000  345.000000  345.000000  345.000000  345.000000  345.000000   \n",
       "mean    90.159420   69.869565   30.405797   24.643478   38.284058    3.455072   \n",
       "std      4.448096   18.347670   19.512309   10.064494   39.254616    3.337835   \n",
       "min     65.000000   23.000000    4.000000    5.000000    5.000000    0.000000   \n",
       "25%     87.000000   57.000000   19.000000   19.000000   15.000000    0.500000   \n",
       "50%     90.000000   67.000000   26.000000   23.000000   25.000000    3.000000   \n",
       "75%     93.000000   80.000000   34.000000   27.000000   46.000000    6.000000   \n",
       "max    103.000000  138.000000  155.000000   82.000000  297.000000   20.000000   \n",
       "\n",
       "         selector  \n",
       "count  345.000000  \n",
       "mean     1.579710  \n",
       "std      0.494322  \n",
       "min      1.000000  \n",
       "25%      1.000000  \n",
       "50%      2.000000  \n",
       "75%      2.000000  \n",
       "max      2.000000  "
      ]
     },
     "execution_count": 5,
     "metadata": {},
     "output_type": "execute_result"
    }
   ],
   "source": [
    "data.describe()"
   ]
  },
  {
   "cell_type": "code",
   "execution_count": 6,
   "metadata": {},
   "outputs": [
    {
     "data": {
      "text/plain": [
       "2    200\n",
       "1    145\n",
       "Name: selector, dtype: int64"
      ]
     },
     "execution_count": 6,
     "metadata": {},
     "output_type": "execute_result"
    }
   ],
   "source": [
    "data['selector'].value_counts()"
   ]
  },
  {
   "cell_type": "markdown",
   "metadata": {},
   "source": [
    "Calculating the Spearman's Rank Correlation Coefficient between the different features and the output variable"
   ]
  },
  {
   "cell_type": "code",
   "execution_count": 7,
   "metadata": {},
   "outputs": [
    {
     "name": "stdout",
     "output_type": "stream",
     "text": [
      "SpearmanrResult(correlation=-0.10246626896937111, pvalue=0.057259266268041349)\n"
     ]
    }
   ],
   "source": [
    "print sp.spearmanr(data['mcv'],data['selector'])"
   ]
  },
  {
   "cell_type": "code",
   "execution_count": 8,
   "metadata": {},
   "outputs": [
    {
     "data": {
      "text/plain": [
       "SpearmanrResult(correlation=-0.12222686443646685, pvalue=0.023174635184627524)"
      ]
     },
     "execution_count": 8,
     "metadata": {},
     "output_type": "execute_result"
    }
   ],
   "source": [
    "sp.spearmanr(data['alhphos'],data['selector'])"
   ]
  },
  {
   "cell_type": "code",
   "execution_count": 9,
   "metadata": {},
   "outputs": [
    {
     "data": {
      "text/plain": [
       "SpearmanrResult(correlation=-0.13467770721374014, pvalue=0.012284455216342641)"
      ]
     },
     "execution_count": 9,
     "metadata": {},
     "output_type": "execute_result"
    }
   ],
   "source": [
    "sp.spearmanr(data['sgpt'],data['selector'])"
   ]
  },
  {
   "cell_type": "code",
   "execution_count": 10,
   "metadata": {},
   "outputs": [
    {
     "data": {
      "text/plain": [
       "SpearmanrResult(correlation=0.14463984221647871, pvalue=0.007124242098003857)"
      ]
     },
     "execution_count": 10,
     "metadata": {},
     "output_type": "execute_result"
    }
   ],
   "source": [
    "sp.spearmanr(data['sgot'],data['selector'])"
   ]
  },
  {
   "cell_type": "code",
   "execution_count": 11,
   "metadata": {},
   "outputs": [
    {
     "data": {
      "text/plain": [
       "SpearmanrResult(correlation=0.21961129022957107, pvalue=3.8779315464892418e-05)"
      ]
     },
     "execution_count": 11,
     "metadata": {},
     "output_type": "execute_result"
    }
   ],
   "source": [
    "sp.spearmanr(data['gammagt'],data['selector'])"
   ]
  },
  {
   "cell_type": "code",
   "execution_count": 12,
   "metadata": {},
   "outputs": [
    {
     "data": {
      "text/plain": [
       "SpearmanrResult(correlation=0.038725467248969442, pvalue=0.47340364292085135)"
      ]
     },
     "execution_count": 12,
     "metadata": {},
     "output_type": "execute_result"
    }
   ],
   "source": [
    "sp.spearmanr(data['drinks'],data['selector'])"
   ]
  },
  {
   "cell_type": "markdown",
   "metadata": {},
   "source": [
    "- The features 'gammagt' and 'sgot' are the most correlated to the output variable 'selector'."
   ]
  },
  {
   "cell_type": "code",
   "execution_count": 13,
   "metadata": {},
   "outputs": [
    {
     "name": "stdout",
     "output_type": "stream",
     "text": [
      "0.18\n"
     ]
    }
   ],
   "source": [
    "#Null Hypothesis: gammagt and selector are not correlated\n",
    "p=0\n",
    "for i in range(50):\n",
    "    sg=[]\n",
    "    ss=[]\n",
    "    for j in range(100):\n",
    "        x=randint(0,344)\n",
    "        sg.append(data.loc[x,'gammagt'])\n",
    "        ss.append(data.loc[x,'selector'])\n",
    "        \n",
    "    if sp.spearmanr(sg,ss).correlation<0.10:\n",
    "        p+=1\n",
    "\n",
    "print p/50\n",
    "        \n",
    "        \n",
    "#Since, p=0.04<0.05 I reject the null hypothesis with 95% confidence\n",
    "# and conclude that gammagt and selector are correlated.\n",
    "    "
   ]
  },
  {
   "cell_type": "code",
   "execution_count": 14,
   "metadata": {},
   "outputs": [
    {
     "name": "stdout",
     "output_type": "stream",
     "text": [
      "0.24\n"
     ]
    }
   ],
   "source": [
    "#Null Hypothesis: sgot and selector are not correlated\n",
    "p=0\n",
    "for i in range(50):\n",
    "    sg=[]\n",
    "    ss=[]\n",
    "    for j in range(100):\n",
    "        x=randint(0,344)\n",
    "        sg.append(data.loc[x,'sgot'])\n",
    "        ss.append(data.loc[x,'selector'])\n",
    "        \n",
    "    if sp.spearmanr(sg,ss).correlation<0.08:\n",
    "        p+=1\n",
    "\n",
    "print p/50\n",
    "\n",
    "#Since p is high I fail to reject the null hypothesis that sgot and selector are not correlated"
   ]
  },
  {
   "cell_type": "markdown",
   "metadata": {},
   "source": [
    "Q2.\n",
    "    a. Simulate the coin tossing by writing a function wich gives the output \"head\" with 50% chance and \"tail\" with 50% chance\n",
    "    b. call the same function 250 times, find out the number tests which gave the output \"head\"\n",
    "    c. based on the result conclude that the coin is baised or not\n",
    "    d. prove your conclusion with the help of null hypothisis test"
   ]
  },
  {
   "cell_type": "code",
   "execution_count": 63,
   "metadata": {},
   "outputs": [
    {
     "name": "stdout",
     "output_type": "stream",
     "text": [
      "126\n"
     ]
    }
   ],
   "source": [
    "def toss():\n",
    "    x=random()\n",
    "    if(x<0.5):\n",
    "        return \"H\"\n",
    "    else:\n",
    "        return \"T\"\n",
    "def expt():\n",
    "    l=[]\n",
    "    count_heads=0\n",
    "    for i in range(250) :\n",
    "        x=toss()\n",
    "        if x==\"H\":\n",
    "            l.append(\"H\")\n",
    "            count_heads+=1\n",
    "        else:\n",
    "            l.append(\"T\")\n",
    "    return count_heads,l\n",
    "\n",
    "C,l=expt()\n",
    "\n",
    "print C"
   ]
  },
  {
   "cell_type": "code",
   "execution_count": 64,
   "metadata": {},
   "outputs": [
    {
     "name": "stdout",
     "output_type": "stream",
     "text": [
      "0.61\n"
     ]
    }
   ],
   "source": [
    "#Given that the value of one experiment resulted in 115 heads out of 250 coin tosses instead of approx. 125, \n",
    "#I hypothesize that the coin is biased.  \n",
    "\n",
    "#Null Hypothesis:- The coin is biased\n",
    "#Alternate Hypothesis:- The coin is unbiased\n",
    "\n",
    "# To test this a sample of 50 values is taken from the array containing the result of the 250 coin tosses. If the no. of heads\n",
    "#is not between 23 to 27 the coin is assumed to be biased. This experiment is repeated for 100 times and the probability \n",
    "# of the number of biased coins is tested. \n",
    "\n",
    "p=0\n",
    "for i in range(100):\n",
    "    s=sample(l,50)\n",
    "    ch=0\n",
    "    for x in s:\n",
    "        if x==\"H\":\n",
    "            ch+=1\n",
    "    if ch not in range(23,26):\n",
    "        p+=1\n",
    "\n",
    "p=p/100\n",
    "print p\n",
    "\n",
    "#Since 55 out of the 100 random samples showed that the coin is biased, \n",
    "#I fail to reject the null hypothesis and conclude that the coin is biased."
   ]
  },
  {
   "cell_type": "code",
   "execution_count": 17,
   "metadata": {
    "collapsed": true
   },
   "outputs": [],
   "source": [
    "import numpy as np\n",
    "import math\n",
    "def generate_data():\n",
    "    X = np.linspace(-10,10, 500)\n",
    "    Y = [(4 / 3 ** 2) * (x - 3) ** 2 for x in X]\n",
    "    return X, Y"
   ]
  },
  {
   "cell_type": "markdown",
   "metadata": {},
   "source": [
    "<pre>\n",
    "Q3. \n",
    "    a. call the function genarate_data() to get two vectors, \"X, Y = genarate_data()\"\n",
    "    b. find out the trasofrmation of given vectors which will help us to find the correlation between X, Y with the help of techniques that are discussed in the class (Pearson Product Moment Correlation, Spearman rank Order Correlation)\n",
    "        hint: use the techniques that are discussed in the class while solving \"X^2 + Y^2 =a^2 (circle data)\"\n",
    "    </pre>"
   ]
  },
  {
   "cell_type": "code",
   "execution_count": 18,
   "metadata": {},
   "outputs": [
    {
     "data": {
      "image/png": "[encoded data removed]",
      "text/plain": [
       "<matplotlib.figure.Figure at 0xbcf9f98>"
      ]
     },
     "metadata": {},
     "output_type": "display_data"
    }
   ],
   "source": [
    "X,Y=generate_data()\n",
    "plt.scatter(X,Y)\n",
    "plt.title('Scatter plot')\n",
    "plt.xlabel('X')\n",
    "plt.ylabel('Y')\n",
    "plt.show()"
   ]
  },
  {
   "cell_type": "code",
   "execution_count": 19,
   "metadata": {},
   "outputs": [
    {
     "name": "stdout",
     "output_type": "stream",
     "text": [
      "SpearmanrResult(correlation=-0.65553142212568849, pvalue=1.0024014496100716e-62)\n",
      "(-0.75729314730485919, 3.3483974622873407e-94)\n"
     ]
    }
   ],
   "source": [
    "print sp.spearmanr(X,Y)\n",
    "print sp.pearsonr(X,Y)"
   ]
  }
 ],
 "metadata": {
  "kernelspec": {
   "display_name": "Python 2",
   "language": "python",
   "name": "python2"
  },
  "language_info": {
   "codemirror_mode": {
    "name": "ipython",
    "version": 2
   },
   "file_extension": ".py",
   "mimetype": "text/x-python",
   "name": "python",
   "nbconvert_exporter": "python",
   "pygments_lexer": "ipython2",
   "version": "2.7.13"
  }
 },
 "nbformat": 4,
 "nbformat_minor": 2
}
